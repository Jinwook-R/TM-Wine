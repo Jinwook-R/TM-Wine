{
 "cells": [
  {
   "cell_type": "code",
   "execution_count": 40,
   "id": "0d482930",
   "metadata": {},
   "outputs": [],
   "source": [
    "import numpy as np\n",
    "import pandas as pd\n",
    "import re"
   ]
  },
  {
   "cell_type": "code",
   "execution_count": 170,
   "id": "fbe8c320",
   "metadata": {},
   "outputs": [],
   "source": [
    "df_encoding = pd.read_csv('D:/Project/DB_to_ML.csv')\n",
    "df_encoding.drop(['Unnamed: 0'], axis = 1, inplace = True)\n",
    "\n",
    "def split_data(data):\n",
    "    answer=[]\n",
    "    a=data\n",
    "    b=a[0].split(', ')\n",
    "    for i in range(len(b)):\n",
    "        c=b[i].split(')')\n",
    "        answer.append(('품종_'+c[0]+')',int(c[1].split('%')[0])/100))\n",
    "    return answer\n",
    "\n",
    "def mapping(answer):\n",
    "    for i in range(len(answer)):\n",
    "        df_encoding[answer[i][0]]=answer[i][1]\n",
    "        \n",
    "def mapping_taste(data):\n",
    "    df_encoding['당도_%d'%data[1]]=1\n",
    "    df_encoding['산도_%d'%data[2]]=1\n",
    "    df_encoding['바디_%d'%data[3]]=1\n",
    "    df_encoding['타닌_%d'%data[4]]=1\n",
    "\n",
    "def DB_to_ML(wine):\n",
    "    a= split_data(wine)\n",
    "    mapping(a)\n",
    "    mapping_taste(wine)\n",
    "    return df_encoding\n",
    "    "
   ]
  },
  {
   "cell_type": "code",
   "execution_count": 171,
   "id": "ae0fe305",
   "metadata": {
    "scrolled": true
   },
   "outputs": [
    {
     "data": {
      "text/html": [
       "<div>\n",
       "<style scoped>\n",
       "    .dataframe tbody tr th:only-of-type {\n",
       "        vertical-align: middle;\n",
       "    }\n",
       "\n",
       "    .dataframe tbody tr th {\n",
       "        vertical-align: top;\n",
       "    }\n",
       "\n",
       "    .dataframe thead th {\n",
       "        text-align: right;\n",
       "    }\n",
       "</style>\n",
       "<table border=\"1\" class=\"dataframe\">\n",
       "  <thead>\n",
       "    <tr style=\"text-align: right;\">\n",
       "      <th></th>\n",
       "      <th>품종_가르가네가 (Garganega)</th>\n",
       "      <th>품종_가르나차  (Garnacha)</th>\n",
       "      <th>품종_가르나차 (Garnatxa)</th>\n",
       "      <th>품종_가르나차 틴토레라  (Garnacha Tintorera)</th>\n",
       "      <th>품종_가메이 (Gamay)</th>\n",
       "      <th>품종_게뷔르츠트라미너 (Gewurztraminer)</th>\n",
       "      <th>품종_고데요 (Godello)</th>\n",
       "      <th>품종_그레케토 비앙코 (Grechetto Bianco)</th>\n",
       "      <th>품종_그레코 비앙코 (Greco Bianco)</th>\n",
       "      <th>품종_그로 만생 (Gros Manseng)</th>\n",
       "      <th>...</th>\n",
       "      <th>바디_2</th>\n",
       "      <th>바디_3</th>\n",
       "      <th>바디_4</th>\n",
       "      <th>바디_5</th>\n",
       "      <th>타닌_0</th>\n",
       "      <th>타닌_1</th>\n",
       "      <th>타닌_2</th>\n",
       "      <th>타닌_3</th>\n",
       "      <th>타닌_4</th>\n",
       "      <th>타닌_5</th>\n",
       "    </tr>\n",
       "  </thead>\n",
       "  <tbody>\n",
       "    <tr>\n",
       "      <th>0</th>\n",
       "      <td>0</td>\n",
       "      <td>0</td>\n",
       "      <td>0</td>\n",
       "      <td>0</td>\n",
       "      <td>0</td>\n",
       "      <td>0</td>\n",
       "      <td>0</td>\n",
       "      <td>0</td>\n",
       "      <td>0</td>\n",
       "      <td>0</td>\n",
       "      <td>...</td>\n",
       "      <td>0</td>\n",
       "      <td>0</td>\n",
       "      <td>0</td>\n",
       "      <td>0</td>\n",
       "      <td>0</td>\n",
       "      <td>0</td>\n",
       "      <td>0</td>\n",
       "      <td>0</td>\n",
       "      <td>0</td>\n",
       "      <td>0</td>\n",
       "    </tr>\n",
       "  </tbody>\n",
       "</table>\n",
       "<p>1 rows × 199 columns</p>\n",
       "</div>"
      ],
      "text/plain": [
       "   품종_가르가네가 (Garganega)   품종_가르나차  (Garnacha)   품종_가르나차 (Garnatxa)   \\\n",
       "0                      0                     0                    0   \n",
       "\n",
       "   품종_가르나차 틴토레라  (Garnacha Tintorera)   품종_가메이 (Gamay)   \\\n",
       "0                                    0                0   \n",
       "\n",
       "   품종_게뷔르츠트라미너 (Gewurztraminer)   품종_고데요 (Godello)   \\\n",
       "0                              0                  0   \n",
       "\n",
       "   품종_그레케토 비앙코 (Grechetto Bianco)   품종_그레코 비앙코 (Greco Bianco)   \\\n",
       "0                                0                           0   \n",
       "\n",
       "   품종_그로 만생 (Gros Manseng)   ...  바디_2  바디_3  바디_4  바디_5  타닌_0  타닌_1  타닌_2  \\\n",
       "0                         0  ...     0     0     0     0     0     0     0   \n",
       "\n",
       "   타닌_3  타닌_4  타닌_5  \n",
       "0     0     0     0  \n",
       "\n",
       "[1 rows x 199 columns]"
      ]
     },
     "execution_count": 171,
     "metadata": {},
     "output_type": "execute_result"
    }
   ],
   "source": [
    "df_encoding"
   ]
  },
  {
   "cell_type": "code",
   "execution_count": 151,
   "id": "f857db84",
   "metadata": {},
   "outputs": [],
   "source": [
    "wine=['가르나차(Garnacha) 85%, 카베르네 소비뇽(Cabernet Sauvignon) 5%, 까리네나(Carinena) 5%',1,3,5,4]"
   ]
  },
  {
   "cell_type": "code",
   "execution_count": 172,
   "id": "08847a40",
   "metadata": {},
   "outputs": [
    {
     "data": {
      "text/html": [
       "<div>\n",
       "<style scoped>\n",
       "    .dataframe tbody tr th:only-of-type {\n",
       "        vertical-align: middle;\n",
       "    }\n",
       "\n",
       "    .dataframe tbody tr th {\n",
       "        vertical-align: top;\n",
       "    }\n",
       "\n",
       "    .dataframe thead th {\n",
       "        text-align: right;\n",
       "    }\n",
       "</style>\n",
       "<table border=\"1\" class=\"dataframe\">\n",
       "  <thead>\n",
       "    <tr style=\"text-align: right;\">\n",
       "      <th></th>\n",
       "      <th>품종_가르가네가 (Garganega)</th>\n",
       "      <th>품종_가르나차  (Garnacha)</th>\n",
       "      <th>품종_가르나차 (Garnatxa)</th>\n",
       "      <th>품종_가르나차 틴토레라  (Garnacha Tintorera)</th>\n",
       "      <th>품종_가메이 (Gamay)</th>\n",
       "      <th>품종_게뷔르츠트라미너 (Gewurztraminer)</th>\n",
       "      <th>품종_고데요 (Godello)</th>\n",
       "      <th>품종_그레케토 비앙코 (Grechetto Bianco)</th>\n",
       "      <th>품종_그레코 비앙코 (Greco Bianco)</th>\n",
       "      <th>품종_그로 만생 (Gros Manseng)</th>\n",
       "      <th>...</th>\n",
       "      <th>바디_2</th>\n",
       "      <th>바디_3</th>\n",
       "      <th>바디_4</th>\n",
       "      <th>바디_5</th>\n",
       "      <th>타닌_0</th>\n",
       "      <th>타닌_1</th>\n",
       "      <th>타닌_2</th>\n",
       "      <th>타닌_3</th>\n",
       "      <th>타닌_4</th>\n",
       "      <th>타닌_5</th>\n",
       "    </tr>\n",
       "  </thead>\n",
       "  <tbody>\n",
       "    <tr>\n",
       "      <th>0</th>\n",
       "      <td>0</td>\n",
       "      <td>0.85</td>\n",
       "      <td>0</td>\n",
       "      <td>0</td>\n",
       "      <td>0</td>\n",
       "      <td>0</td>\n",
       "      <td>0</td>\n",
       "      <td>0</td>\n",
       "      <td>0</td>\n",
       "      <td>0</td>\n",
       "      <td>...</td>\n",
       "      <td>0</td>\n",
       "      <td>0</td>\n",
       "      <td>0</td>\n",
       "      <td>1</td>\n",
       "      <td>0</td>\n",
       "      <td>0</td>\n",
       "      <td>0</td>\n",
       "      <td>0</td>\n",
       "      <td>1</td>\n",
       "      <td>0</td>\n",
       "    </tr>\n",
       "  </tbody>\n",
       "</table>\n",
       "<p>1 rows × 199 columns</p>\n",
       "</div>"
      ],
      "text/plain": [
       "   품종_가르가네가 (Garganega)   품종_가르나차  (Garnacha)   품종_가르나차 (Garnatxa)   \\\n",
       "0                      0                  0.85                    0   \n",
       "\n",
       "   품종_가르나차 틴토레라  (Garnacha Tintorera)   품종_가메이 (Gamay)   \\\n",
       "0                                    0                0   \n",
       "\n",
       "   품종_게뷔르츠트라미너 (Gewurztraminer)   품종_고데요 (Godello)   \\\n",
       "0                              0                  0   \n",
       "\n",
       "   품종_그레케토 비앙코 (Grechetto Bianco)   품종_그레코 비앙코 (Greco Bianco)   \\\n",
       "0                                0                           0   \n",
       "\n",
       "   품종_그로 만생 (Gros Manseng)   ...  바디_2  바디_3  바디_4  바디_5  타닌_0  타닌_1  타닌_2  \\\n",
       "0                         0  ...     0     0     0     1     0     0     0   \n",
       "\n",
       "   타닌_3  타닌_4  타닌_5  \n",
       "0     0     1     0  \n",
       "\n",
       "[1 rows x 199 columns]"
      ]
     },
     "execution_count": 172,
     "metadata": {},
     "output_type": "execute_result"
    }
   ],
   "source": [
    "DB_to_ML(wine)"
   ]
  },
  {
   "cell_type": "code",
   "execution_count": 168,
   "id": "9183c332",
   "metadata": {},
   "outputs": [
    {
     "name": "stdout",
     "output_type": "stream",
     "text": [
      "0    0\n",
      "Name: 산도_1, dtype: int64\n",
      "0    0\n",
      "Name: 산도_2, dtype: int64\n",
      "0    1\n",
      "Name: 산도_3, dtype: int64\n",
      "0    0\n",
      "Name: 산도_4, dtype: int64\n"
     ]
    }
   ],
   "source": [
    "print(df_encoding['산도_1'])\n",
    "print(df_encoding['산도_2'])\n",
    "print(df_encoding['산도_3'])\n",
    "print(df_encoding['산도_4'])"
   ]
  },
  {
   "cell_type": "code",
   "execution_count": 169,
   "id": "a4d01e22",
   "metadata": {},
   "outputs": [
    {
     "name": "stdout",
     "output_type": "stream",
     "text": [
      "0    0.85\n",
      "Name: 품종_가르나차  (Garnacha) , dtype: float64\n",
      "0    0.05\n",
      "Name: 품종_카베르네 소비뇽 (Cabernet Sauvignon) , dtype: float64\n",
      "0    0.05\n",
      "Name: 품종_까리네나 (Carinena) , dtype: float64\n"
     ]
    }
   ],
   "source": [
    "print(df_encoding['품종_가르나차  (Garnacha) '])\n",
    "print(df_encoding['품종_카베르네 소비뇽 (Cabernet Sauvignon) '])\n",
    "print(df_encoding['품종_까리네나 (Carinena) '])"
   ]
  },
  {
   "cell_type": "code",
   "execution_count": null,
   "id": "a592432e",
   "metadata": {},
   "outputs": [],
   "source": []
  }
 ],
 "metadata": {
  "kernelspec": {
   "display_name": "Python 3 (ipykernel)",
   "language": "python",
   "name": "python3"
  },
  "language_info": {
   "codemirror_mode": {
    "name": "ipython",
    "version": 3
   },
   "file_extension": ".py",
   "mimetype": "text/x-python",
   "name": "python",
   "nbconvert_exporter": "python",
   "pygments_lexer": "ipython3",
   "version": "3.8.12"
  }
 },
 "nbformat": 4,
 "nbformat_minor": 5
}
