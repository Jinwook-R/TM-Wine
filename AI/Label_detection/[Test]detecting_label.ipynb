{
  "nbformat": 4,
  "nbformat_minor": 0,
  "metadata": {
    "colab": {
      "name": "[Test]detecting_label.ipynb",
      "provenance": [],
      "collapsed_sections": []
    },
    "kernelspec": {
      "name": "python3",
      "display_name": "Python 3"
    },
    "language_info": {
      "name": "python"
    },
    "accelerator": "GPU"
  },
  "cells": [
    {
      "cell_type": "code",
      "execution_count": null,
      "metadata": {
        "colab": {
          "base_uri": "https://localhost:8080/"
        },
        "id": "3UlSvrcrljeK",
        "outputId": "c8a19d8c-5547-4cc9-eeba-09ec31cb8eac"
      },
      "outputs": [
        {
          "output_type": "stream",
          "name": "stderr",
          "text": [
            "YOLOv5 🚀 2021-12-27 torch 1.10.0+cu111 CUDA:0 (Tesla K80, 11441MiB)\n"
          ]
        },
        {
          "output_type": "stream",
          "name": "stdout",
          "text": [
            "Setup complete ✅ (2 CPUs, 12.7 GB RAM, 42.0/78.2 GB disk)\n"
          ]
        }
      ],
      "source": [
        "#!git clone https://github.com/ultralytics/yolov5  # clone\n",
        "%cd ./yolov5\n",
        "%pip install -qr requirements.txt  # install\n",
        "\n",
        "import torch\n",
        "from yolov5 import utils\n",
        "display = utils.notebook_init()  # checks"
      ]
    },
    {
      "cell_type": "code",
      "source": [
        "!python ./detect.py --weights ./bettermodel.pt --img 640 --conf 0.25 --source ./testImage/\n",
        "#!python ./detect.py --weights ./lightmodel.pt.pt --img 640 --conf 0.25 --source ./testImage/ # lightmodel"
      ],
      "metadata": {
        "colab": {
          "base_uri": "https://localhost:8080/"
        },
        "id": "djx1eIDWlt_t",
        "outputId": "08afbcb5-bdbe-4e60-ffd2-379f16b6249b"
      },
      "execution_count": null,
      "outputs": [
        {
          "output_type": "stream",
          "name": "stdout",
          "text": [
            "\u001b[34m\u001b[1mdetect2: \u001b[0mweights=['/content/drive/MyDrive/1yolov5/yolov5/runs/train/yolov5x_fine3/weights/best.pt'], source=./test5.jpg, imgsz=[640, 640], conf_thres=0.25, iou_thres=0.45, max_det=1000, device=, view_img=False, save_txt=False, save_conf=False, save_crop=False, nosave=False, classes=None, agnostic_nms=False, augment=False, visualize=False, update=False, project=yolov5/runs/detect, name=exp, exist_ok=False, line_thickness=3, hide_labels=False, hide_conf=False, half=False, dnn=False\n",
            "YOLOv5 🚀 2021-12-27 torch 1.10.0+cu111 CUDA:0 (Tesla K80, 11441MiB)\n",
            "\n",
            "Fusing layers... \n",
            "Model Summary: 444 layers, 86193601 parameters, 0 gradients, 204.0 GFLOPs\n",
            "image 1/1 /content/drive/My Drive/1yolov5/test5.jpg: 640x512 2 yoseroses, Done. (0.208s)\n",
            "Speed: 0.8ms pre-process, 207.8ms inference, 2.2ms NMS per image at shape (1, 3, 640, 640)\n",
            "Results saved to \u001b[1myolov5/runs/detect/exp12\u001b[0m\n"
          ]
        }
      ]
    }
  ]
}