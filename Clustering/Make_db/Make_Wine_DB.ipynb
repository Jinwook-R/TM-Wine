{
 "cells": [
  {
   "cell_type": "code",
   "execution_count": 1,
   "id": "798d4d66",
   "metadata": {},
   "outputs": [],
   "source": [
    "import requests\n",
    "import re\n",
    "import pandas as pd\n",
    "from bs4 import BeautifulSoup\n",
    "import csv"
   ]
  },
  {
   "cell_type": "code",
   "execution_count": 2,
   "id": "da5865e5",
   "metadata": {},
   "outputs": [],
   "source": [
    "def wine_data(url):\n",
    "    res = requests.get(url)\n",
    "    res.raise_for_status()\n",
    "    soup = BeautifulSoup(res.text,'html.parser')\n",
    "    items = soup.select(\"body > section > div.inner\")\n",
    "    \n",
    "    for item in items:\n",
    "        temp = []\n",
    "        name = item.select_one(\"body > section > div.inner > div.clear > div.wine-top-right > dl > dt\").text\n",
    "        price = item.select_one(\"body > section > div.inner > div.clear > div.wine-top-right > p.wine-price > strong\").text\n",
    "        category = item.select_one(\"body > section > div.inner > div.clear > div.wine-top-right > div.bagde-box > p > span.bagde-item\").text\n",
    "        country = item.select_one(\"body > section > div.inner > div.clear > div.wine-top-right > div.bagde-box > p > span:nth-child(2)\").text\n",
    "\n",
    "        kind = item.select_one(\"#detail > div > div > dl:nth-child(3) > dd \").text\n",
    "\n",
    "        sugar = item.select(\"body > section > div.inner > div.clear > div.wine-top-right > div.wine-components > ul > li:nth-child(1)\")\n",
    "        sugar = [a_element for a_element in sugar]\n",
    "        sugar = str(sugar)\n",
    "        sugar = sugar.count(\"on\")\n",
    "\n",
    "        acidity = item.select(\"body > section > div.inner > div.clear > div.wine-top-right > div.wine-components > ul > li:nth-child(2)\")\n",
    "        acidity = [a_element for a_element in acidity]\n",
    "        acidity = str(acidity)\n",
    "        acidity = acidity.count(\"on\")\n",
    "\n",
    "        body = item.select(\"body > section > div.inner > div.clear > div.wine-top-right > div.wine-components > ul > li:nth-child(3)\")\n",
    "        body = [a_element for a_element in body]\n",
    "        body = str(body)\n",
    "        body = body.count(\"on\")\n",
    "\n",
    "        tannin = item.select(\"body > section > div.inner > div.clear > div.wine-top-right > div.wine-components > ul > li:nth-child(4)\")\n",
    "        tannin = [a_element for a_element in tannin]\n",
    "        tannin = str(tannin)\n",
    "        tannin = tannin.count(\"on\")\n",
    "\n",
    "        temp.append(name)\n",
    "        temp.append(price)\n",
    "        temp.append(category)\n",
    "        temp.append(country)\n",
    "        temp.append(kind)\n",
    "        temp.append(sugar)\n",
    "        temp.append(acidity)\n",
    "        temp.append(body)\n",
    "        temp.append(tannin)\n",
    "    return temp"
   ]
  },
  {
   "cell_type": "code",
   "execution_count": 3,
   "id": "28256ba9",
   "metadata": {},
   "outputs": [],
   "source": [
    "def make_wine_db(name,start,finish):\n",
    "    wine = []\n",
    "    for i in range(start,finish):\n",
    "        try:\n",
    "            url = 'https://www.wine21.com/13_search/wine_view.html?Idx='+str(i)+'&lq=LIST'\n",
    "            wine.append(wine_data(url))\n",
    "        except:\n",
    "            pass\n",
    "\n",
    "    with open(name,\"w\", encoding = \"utf-8-sig\",newline = \"\") as f:\n",
    "        writer = csv.writer(f)\n",
    "        writer.writerow(['품명','가격','카테고리','생산지','품종','당도','산도','바디','타닌'])\n",
    "        writer.writerows(wine)\n",
    "    f.close"
   ]
  },
  {
   "cell_type": "code",
   "execution_count": null,
   "id": "d8bb4fef",
   "metadata": {},
   "outputs": [],
   "source": [
    "def data_update(name,data):\n",
    "    f=open(name,\"a\", encoding = \"utf-8-sig\",newline = \"\")\n",
    "    writer = csv.writer(f)\n",
    "    writer.writerow(data)\n",
    "    f.close()"
   ]
  }
 ],
 "metadata": {
  "kernelspec": {
   "display_name": "Python 3 (ipykernel)",
   "language": "python",
   "name": "python3"
  },
  "language_info": {
   "codemirror_mode": {
    "name": "ipython",
    "version": 3
   },
   "file_extension": ".py",
   "mimetype": "text/x-python",
   "name": "python",
   "nbconvert_exporter": "python",
   "pygments_lexer": "ipython3",
   "version": "3.8.12"
  }
 },
 "nbformat": 4,
 "nbformat_minor": 5
}
