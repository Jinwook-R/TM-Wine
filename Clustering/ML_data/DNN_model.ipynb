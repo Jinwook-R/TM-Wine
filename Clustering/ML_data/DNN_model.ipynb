{
 "cells": [
  {
   "cell_type": "code",
   "execution_count": 10,
   "id": "463839bd",
   "metadata": {},
   "outputs": [],
   "source": [
    "import numpy as np\n",
    "import pandas as pd\n",
    "import tensorflow as tf\n",
    "from keras.models import Sequential\n",
    "from keras.layers import Dense"
   ]
  },
  {
   "cell_type": "code",
   "execution_count": 11,
   "id": "809ff062",
   "metadata": {},
   "outputs": [
    {
     "name": "stdout",
     "output_type": "stream",
     "text": [
      "<class 'pandas.core.frame.DataFrame'>\n",
      "RangeIndex: 11648 entries, 0 to 11647\n",
      "Columns: 199 entries, 품종_가르가네가 (Garganega)  to 타닌_5\n",
      "dtypes: int64(199)\n",
      "memory usage: 17.7 MB\n"
     ]
    }
   ],
   "source": [
    "dl_test = pd.read_csv('D:/Project/[AI]_추천/ML_data/cluster_final.csv',encoding='cp949')\n",
    "dl_test.drop(['Unnamed: 0'], axis = 1, inplace = True)\n",
    "dl_test.info()"
   ]
  },
  {
   "cell_type": "code",
   "execution_count": 12,
   "id": "a1733b2c",
   "metadata": {},
   "outputs": [
    {
     "name": "stdout",
     "output_type": "stream",
     "text": [
      "<class 'pandas.core.frame.DataFrame'>\n",
      "RangeIndex: 11648 entries, 0 to 11647\n",
      "Data columns (total 8 columns):\n",
      " #   Column  Non-Null Count  Dtype\n",
      "---  ------  --------------  -----\n",
      " 0   0       11648 non-null  int64\n",
      " 1   1       11648 non-null  int64\n",
      " 2   2       11648 non-null  int64\n",
      " 3   3       11648 non-null  int64\n",
      " 4   4       11648 non-null  int64\n",
      " 5   5       11648 non-null  int64\n",
      " 6   6       11648 non-null  int64\n",
      " 7   7       11648 non-null  int64\n",
      "dtypes: int64(8)\n",
      "memory usage: 728.1 KB\n"
     ]
    }
   ],
   "source": [
    "label = pd.read_csv('D:/Project/[AI]_추천/ML_data/label_data.csv',encoding='cp949')\n",
    "label.drop(['Unnamed: 0'], axis = 1, inplace = True)\n",
    "label.info()"
   ]
  },
  {
   "cell_type": "code",
   "execution_count": 13,
   "id": "b47a709c",
   "metadata": {},
   "outputs": [],
   "source": [
    "test_data_x=dl_test.to_numpy()\n",
    "test_data_y=label.to_numpy()"
   ]
  },
  {
   "cell_type": "code",
   "execution_count": 14,
   "id": "e8a71bbe",
   "metadata": {},
   "outputs": [],
   "source": [
    "x_data=np.array(test_data_x)\n",
    "y_data=np.array(test_data_y)"
   ]
  },
  {
   "cell_type": "code",
   "execution_count": 15,
   "id": "90517b28",
   "metadata": {
    "scrolled": true
   },
   "outputs": [
    {
     "name": "stdout",
     "output_type": "stream",
     "text": [
      "Epoch 1/50\n",
      "  1/364 [..............................] - ETA: 0s - loss: 2.0817 - accuracy: 0.1562WARNING:tensorflow:Callbacks method `on_train_batch_end` is slow compared to the batch time (batch time: 0.0000s vs `on_train_batch_end` time: 0.0010s). Check your callbacks.\n",
      "364/364 [==============================] - 0s 635us/step - loss: 1.7836 - accuracy: 0.4117\n",
      "Epoch 2/50\n",
      "364/364 [==============================] - 0s 629us/step - loss: 0.7270 - accuracy: 0.9023\n",
      "Epoch 3/50\n",
      "364/364 [==============================] - 0s 627us/step - loss: 0.2021 - accuracy: 0.9814\n",
      "Epoch 4/50\n",
      "364/364 [==============================] - 0s 665us/step - loss: 0.0925 - accuracy: 0.9895\n",
      "Epoch 5/50\n",
      "364/364 [==============================] - 0s 634us/step - loss: 0.0591 - accuracy: 0.9902\n",
      "Epoch 6/50\n",
      "364/364 [==============================] - 0s 635us/step - loss: 0.0445 - accuracy: 0.9905\n",
      "Epoch 7/50\n",
      "364/364 [==============================] - 0s 610us/step - loss: 0.0363 - accuracy: 0.9913\n",
      "Epoch 8/50\n",
      "364/364 [==============================] - 0s 616us/step - loss: 0.0310 - accuracy: 0.9929\n",
      "Epoch 9/50\n",
      "364/364 [==============================] - 0s 624us/step - loss: 0.0271 - accuracy: 0.9940\n",
      "Epoch 10/50\n",
      "364/364 [==============================] - 0s 643us/step - loss: 0.0242 - accuracy: 0.9954\n",
      "Epoch 11/50\n",
      "364/364 [==============================] - 0s 635us/step - loss: 0.0219 - accuracy: 0.9957\n",
      "Epoch 12/50\n",
      "364/364 [==============================] - 0s 627us/step - loss: 0.0200 - accuracy: 0.9957\n",
      "Epoch 13/50\n",
      "364/364 [==============================] - 0s 610us/step - loss: 0.0184 - accuracy: 0.9963\n",
      "Epoch 14/50\n",
      "364/364 [==============================] - 0s 609us/step - loss: 0.0171 - accuracy: 0.9967\n",
      "Epoch 15/50\n",
      "364/364 [==============================] - 0s 624us/step - loss: 0.0160 - accuracy: 0.9969\n",
      "Epoch 16/50\n",
      "364/364 [==============================] - 0s 621us/step - loss: 0.0150 - accuracy: 0.9974\n",
      "Epoch 17/50\n",
      "364/364 [==============================] - 0s 629us/step - loss: 0.0140 - accuracy: 0.9973\n",
      "Epoch 18/50\n",
      "364/364 [==============================] - 0s 643us/step - loss: 0.0133 - accuracy: 0.9977\n",
      "Epoch 19/50\n",
      "364/364 [==============================] - 0s 635us/step - loss: 0.0126 - accuracy: 0.9976\n",
      "Epoch 20/50\n",
      "364/364 [==============================] - 0s 648us/step - loss: 0.0121 - accuracy: 0.9979\n",
      "Epoch 21/50\n",
      "364/364 [==============================] - 0s 616us/step - loss: 0.0115 - accuracy: 0.9979\n",
      "Epoch 22/50\n",
      "364/364 [==============================] - 0s 618us/step - loss: 0.0109 - accuracy: 0.9979\n",
      "Epoch 23/50\n",
      "364/364 [==============================] - 0s 621us/step - loss: 0.0104 - accuracy: 0.9979\n",
      "Epoch 24/50\n",
      "364/364 [==============================] - 0s 618us/step - loss: 0.0100 - accuracy: 0.9981\n",
      "Epoch 25/50\n",
      "364/364 [==============================] - 0s 618us/step - loss: 0.0097 - accuracy: 0.9980\n",
      "Epoch 26/50\n",
      "364/364 [==============================] - 0s 618us/step - loss: 0.0093 - accuracy: 0.9983\n",
      "Epoch 27/50\n",
      "364/364 [==============================] - 0s 654us/step - loss: 0.0089 - accuracy: 0.9983\n",
      "Epoch 28/50\n",
      "364/364 [==============================] - 0s 624us/step - loss: 0.0086 - accuracy: 0.9982\n",
      "Epoch 29/50\n",
      "364/364 [==============================] - 0s 627us/step - loss: 0.0082 - accuracy: 0.9984\n",
      "Epoch 30/50\n",
      "364/364 [==============================] - 0s 639us/step - loss: 0.0080 - accuracy: 0.9985\n",
      "Epoch 31/50\n",
      "364/364 [==============================] - 0s 618us/step - loss: 0.0077 - accuracy: 0.9985\n",
      "Epoch 32/50\n",
      "364/364 [==============================] - 0s 616us/step - loss: 0.0074 - accuracy: 0.9987\n",
      "Epoch 33/50\n",
      "364/364 [==============================] - 0s 618us/step - loss: 0.0072 - accuracy: 0.9988\n",
      "Epoch 34/50\n",
      "364/364 [==============================] - 0s 643us/step - loss: 0.0070 - accuracy: 0.9987\n",
      "Epoch 35/50\n",
      "364/364 [==============================] - 0s 640us/step - loss: 0.0067 - accuracy: 0.9988\n",
      "Epoch 36/50\n",
      "364/364 [==============================] - 0s 641us/step - loss: 0.0065 - accuracy: 0.9991\n",
      "Epoch 37/50\n",
      "364/364 [==============================] - 0s 659us/step - loss: 0.0064 - accuracy: 0.9990\n",
      "Epoch 38/50\n",
      "364/364 [==============================] - 0s 651us/step - loss: 0.0062 - accuracy: 0.9989\n",
      "Epoch 39/50\n",
      "364/364 [==============================] - 0s 659us/step - loss: 0.0060 - accuracy: 0.9992\n",
      "Epoch 40/50\n",
      "364/364 [==============================] - 0s 640us/step - loss: 0.0058 - accuracy: 0.9992\n",
      "Epoch 41/50\n",
      "364/364 [==============================] - 0s 632us/step - loss: 0.0056 - accuracy: 0.9991\n",
      "Epoch 42/50\n",
      "364/364 [==============================] - 0s 632us/step - loss: 0.0055 - accuracy: 0.9991\n",
      "Epoch 43/50\n",
      "364/364 [==============================] - 0s 640us/step - loss: 0.0054 - accuracy: 0.9994\n",
      "Epoch 44/50\n",
      "364/364 [==============================] - 0s 635us/step - loss: 0.0052 - accuracy: 0.9993\n",
      "Epoch 45/50\n",
      "364/364 [==============================] - 0s 632us/step - loss: 0.0051 - accuracy: 0.9992\n",
      "Epoch 46/50\n",
      "364/364 [==============================] - 0s 629us/step - loss: 0.0050 - accuracy: 0.9995\n",
      "Epoch 47/50\n",
      "364/364 [==============================] - 0s 618us/step - loss: 0.0049 - accuracy: 0.9995\n",
      "Epoch 48/50\n",
      "364/364 [==============================] - 0s 635us/step - loss: 0.0048 - accuracy: 0.9994\n",
      "Epoch 49/50\n",
      "364/364 [==============================] - 0s 635us/step - loss: 0.0046 - accuracy: 0.9996\n",
      "Epoch 50/50\n",
      "364/364 [==============================] - 0s 629us/step - loss: 0.0045 - accuracy: 0.9996\n",
      "Model: \"sequential\"\n",
      "_________________________________________________________________\n",
      "Layer (type)                 Output Shape              Param #   \n",
      "=================================================================\n",
      "dense (Dense)                (32, 199)                 39800     \n",
      "_________________________________________________________________\n",
      "dense_1 (Dense)              (32, 199)                 39800     \n",
      "_________________________________________________________________\n",
      "dense_2 (Dense)              (32, 199)                 39800     \n",
      "_________________________________________________________________\n",
      "dense_3 (Dense)              (32, 8)                   1600      \n",
      "=================================================================\n",
      "Total params: 121,000\n",
      "Trainable params: 121,000\n",
      "Non-trainable params: 0\n",
      "_________________________________________________________________\n"
     ]
    }
   ],
   "source": [
    "##DNN\n",
    "model = Sequential()\n",
    "model.add(Dense(199, activation='relu'))\n",
    "model.add(Dense(199, activation='relu'))\n",
    "model.add(Dense(199, activation='relu'))\n",
    "model.add(Dense(8, activation='softmax'))\n",
    "model.compile(loss='categorical_crossentropy', optimizer='sgd',metrics=['accuracy'])\n",
    "model.fit(x_data, y_data, epochs=50, batch_size=32, verbose=1)\n",
    "model.summary()"
   ]
  },
  {
   "cell_type": "code",
   "execution_count": null,
   "id": "061d2897",
   "metadata": {},
   "outputs": [],
   "source": [
    "y_predict=model.predict(np.array([test_data_x[6344]]))"
   ]
  }
 ],
 "metadata": {
  "kernelspec": {
   "display_name": "Python 3 (ipykernel)",
   "language": "python",
   "name": "python3"
  },
  "language_info": {
   "codemirror_mode": {
    "name": "ipython",
    "version": 3
   },
   "file_extension": ".py",
   "mimetype": "text/x-python",
   "name": "python",
   "nbconvert_exporter": "python",
   "pygments_lexer": "ipython3",
   "version": "3.8.12"
  }
 },
 "nbformat": 4,
 "nbformat_minor": 5
}
